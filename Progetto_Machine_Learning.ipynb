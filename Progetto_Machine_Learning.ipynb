{
  "nbformat": 4,
  "nbformat_minor": 0,
  "metadata": {
    "colab": {
      "name": "Progetto_Machine_Learning.ipynb",
      "provenance": [],
      "authorship_tag": "ABX9TyNqSnl/pH3qnYgoMk4ythFB",
      "include_colab_link": true
    },
    "kernelspec": {
      "name": "python3",
      "display_name": "Python 3"
    },
    "language_info": {
      "name": "python"
    }
  },
  "cells": [
    {
      "cell_type": "markdown",
      "metadata": {
        "id": "view-in-github",
        "colab_type": "text"
      },
      "source": [
        "<a href=\"https://colab.research.google.com/github/davideguizzardi/Progetto_Machine_Learning/blob/main/Progetto_Machine_Learning.ipynb\" target=\"_parent\"><img src=\"https://colab.research.google.com/assets/colab-badge.svg\" alt=\"Open In Colab\"/></a>"
      ]
    },
    {
      "cell_type": "markdown",
      "metadata": {
        "id": "VODniAzUrcK0"
      },
      "source": [
        "## Import necessari"
      ]
    },
    {
      "cell_type": "code",
      "metadata": {
        "id": "H78Kc29HrVEx"
      },
      "source": [
        "import sys\n",
        "\n",
        "!{sys.executable} -m pip install -U pandas-profiling[notebook]\n",
        "!jupyter nbextension enable --py widgetsnbextension\n",
        "\n",
        "!pip uninstall scikit-learn -y\n",
        "!pip install -U scikit-learn\n",
        "\n",
        "from typing import List\n",
        "\n",
        "import matplotlib.pyplot as plt\n",
        "import numpy as np\n",
        "import pandas as pd\n",
        "import seaborn as sns\n",
        "import sklearn as sk\n",
        "from sklearn.decomposition import PCA\n",
        "from sklearn.experimental import enable_iterative_imputer\n",
        "from sklearn.feature_selection import RFE\n",
        "from sklearn.feature_selection import SelectFromModel\n",
        "from sklearn.feature_selection import SelectKBest\n",
        "from sklearn.feature_selection import SelectPercentile\n",
        "from sklearn.feature_selection import SequentialFeatureSelector\n",
        "from sklearn.impute import IterativeImputer, KNNImputer, SimpleImputer\n",
        "from sklearn.linear_model import Lasso, LinearRegression\n",
        "from sklearn.tree import DecisionTreeClassifier\n",
        "\n",
        "import requests\n",
        "import pandas_profiling as pp\n",
        "from pandas_profiling.utils.cache import cache_file"
      ],
      "execution_count": null,
      "outputs": []
    },
    {
      "cell_type": "markdown",
      "metadata": {
        "id": "D44Ycu52sA6S"
      },
      "source": [
        "## Costanti"
      ]
    },
    {
      "cell_type": "code",
      "metadata": {
        "id": "HxnEbGmfsIkC"
      },
      "source": [
        "DATA_PATH ="
      ],
      "execution_count": null,
      "outputs": []
    }
  ]
}